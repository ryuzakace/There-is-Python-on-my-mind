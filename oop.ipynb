{
 "cells": [
  {
   "cell_type": "markdown",
   "metadata": {},
   "source": [
    "#Inheritance"
   ]
  },
  {
   "cell_type": "code",
   "execution_count": 1,
   "metadata": {},
   "outputs": [],
   "source": [
    "class Parent:\n",
    "    def __init__(self):\n",
    "        print('Parent Constructor',self)\n",
    "\n",
    "class Child0(Parent):\n",
    "    def __init__(xx):\n",
    "        print('Child Contructor',xx)\n",
    "\n",
    "class Child1(Parent):\n",
    "    def __init__(xx):\n",
    "        print('Child Contructor',xx)\n",
    "        Parent.__init__(xx) #in Python implicit is better than explicit\n",
    "\n",
    "class Child2(Parent):\n",
    "    pass    #here, child conctructor is not defined, so explictly parent constructor is called"
   ]
  },
  {
   "cell_type": "code",
   "execution_count": 2,
   "metadata": {},
   "outputs": [
    {
     "name": "stdout",
     "output_type": "stream",
     "text": [
      "\t\t\t Child0\n",
      "Child Contructor <__main__.Child0 object at 0x0000025F4351FD90>\n",
      "Instance Child1 <__main__.Child0 object at 0x0000025F4351FD90>\n",
      "\t\t\t Child1\n",
      "Child Contructor <__main__.Child1 object at 0x0000025F4430D880>\n",
      "Parent Constructor <__main__.Child1 object at 0x0000025F4430D880>\n",
      "Instance Child1 <__main__.Child1 object at 0x0000025F4430D880>\n",
      "\t\t\t Child2\n",
      "Parent Constructor <__main__.Child2 object at 0x0000025F41506820>\n",
      "Instance Child2 <__main__.Child2 object at 0x0000025F41506820>\n"
     ]
    }
   ],
   "source": [
    "print('\\t\\t\\t Child0')\n",
    "obj0 = Child0()\n",
    "print('Instance Child1',obj0)\n",
    "print('\\t\\t\\t Child1')\n",
    "obj1 = Child1()\n",
    "print('Instance Child1',obj1)\n",
    "print('\\t\\t\\t Child2')\n",
    "obj2 = Child2()\n",
    "print('Instance Child2', obj2)"
   ]
  },
  {
   "cell_type": "code",
   "execution_count": 3,
   "metadata": {},
   "outputs": [],
   "source": [
    "class Parent:\n",
    "    def __init__(self, name):\n",
    "        self.name = name\n",
    "\n",
    "class Child0(Parent):\n",
    "    def __init__(xx, name): \n",
    "        xx.name = name     #child class has name\n",
    "\n",
    "class Child1(Parent):\n",
    "    def __init__(xx, name):\n",
    "        Parent.__init__(xx, name) #child class doesn't has name variable but Parent const called\n",
    "\n",
    "class Child2(Parent):\n",
    "    pass #nothing\n",
    "    "
   ]
  },
  {
   "cell_type": "code",
   "execution_count": 4,
   "metadata": {},
   "outputs": [
    {
     "name": "stdout",
     "output_type": "stream",
     "text": [
      "\t\t\t Child0\n",
      "Instance Child1 Shirish\n",
      "\t\t\t Child1\n",
      "Instance Child1 Giridhar\n",
      "\t\t\t Child2\n",
      "Instance Child2 Bajpai\n"
     ]
    }
   ],
   "source": [
    "print('\\t\\t\\t Child0')\n",
    "obj0 = Child0('Shirish')\n",
    "print('Instance Child1',obj0.name)\n",
    "print('\\t\\t\\t Child1')\n",
    "obj1 = Child1('Giridhar')\n",
    "print('Instance Child1',obj1.name)\n",
    "print('\\t\\t\\t Child2')\n",
    "obj2 = Child2('Bajpai') # as parent class requires name, without passing parameter it was throwing error\n",
    "print('Instance Child2', obj2.name)"
   ]
  },
  {
   "cell_type": "markdown",
   "metadata": {},
   "source": [
    "#Polymorphism"
   ]
  },
  {
   "cell_type": "markdown",
   "metadata": {},
   "source": [
    "Having many forms. In Programming, polymorphism - same function name used for different types.."
   ]
  },
  {
   "cell_type": "code",
   "execution_count": 5,
   "metadata": {},
   "outputs": [
    {
     "name": "stdout",
     "output_type": "stream",
     "text": [
      "5\n",
      "3\n"
     ]
    }
   ],
   "source": [
    "# Python program to demonstrate in-built poly-\n",
    "# morphic functions\n",
    " \n",
    "# len() being used for a string\n",
    "print(len(\"geeks\"))\n",
    " \n",
    "# len() being used for a list\n",
    "print(len([10, 20, 30]))"
   ]
  },
  {
   "cell_type": "markdown",
   "metadata": {},
   "source": [
    "Unlike many other popular object-oriented programming languages such as Java, Python doesn’t support compile-time polymorphism or method overloading. If a class or Python script has multiple methods with the same name, the method defined in the last will override the earlier one."
   ]
  },
  {
   "cell_type": "markdown",
   "metadata": {},
   "source": [
    "#Encapsulation"
   ]
  },
  {
   "cell_type": "markdown",
   "metadata": {},
   "source": [
    " It describes the idea of wrapping data and the methods that work on data within one unit. This puts restrictions on accessing variables and methods directly and can prevent the accidental modification of data."
   ]
  },
  {
   "cell_type": "code",
   "execution_count": 18,
   "metadata": {},
   "outputs": [
    {
     "name": "stdout",
     "output_type": "stream",
     "text": [
      "Calling protected member of base class:  2\n",
      "Calling modified protected member outside class:  3\n",
      "Accessing protected member of derived class:  3\n",
      "Accessing protected member of base cls:  2\n",
      "5\n"
     ]
    }
   ],
   "source": [
    "\n",
    "#Protected members - single underscore. Can be accessed but not convention\n",
    "'''\n",
    "Basically, Protected in Python seems to be a convention, as we are able to use them outside class. Ideally they should have been accessible only \n",
    "within class or subclass!\n",
    "'''\n",
    " \n",
    "class Base:\n",
    "    def __init__(self):\n",
    " \n",
    "        # Protected member\n",
    "        self._a = 2\n",
    " \n",
    "class Derived(Base):\n",
    "    def __init__(self):\n",
    " \n",
    "        Base.__init__(self)\n",
    "        print(\"Calling protected member of base class: \", self._a)\n",
    " \n",
    "        # Modify the protected variable:\n",
    "        self._a = 3\n",
    "        print(\"Calling modified protected member outside class: \", self._a)\n",
    " \n",
    " \n",
    "obj1 = Derived()\n",
    " \n",
    "obj2 = Base()\n",
    " \n",
    "# Calling protected member Can be accessed but should not be done due to convention\n",
    "print(\"Accessing protected member of derived class: \", obj1._a)\n",
    " \n",
    "# Accessing the protected variable outside\n",
    "print(\"Accessing protected member of base cls: \", obj2._a)\n",
    "\n",
    "#Updating protected vari\n",
    "obj2._a = 5\n",
    "print(obj2._a)"
   ]
  },
  {
   "cell_type": "code",
   "execution_count": 24,
   "metadata": {},
   "outputs": [
    {
     "name": "stdout",
     "output_type": "stream",
     "text": [
      "Public A of Base\n",
      "Calling private member of base class: \n"
     ]
    },
    {
     "ename": "AttributeError",
     "evalue": "'Derived' object has no attribute '_Derived__c'",
     "output_type": "error",
     "traceback": [
      "\u001b[1;31m---------------------------------------------------------------------------\u001b[0m",
      "\u001b[1;31mAttributeError\u001b[0m                            Traceback (most recent call last)",
      "\u001b[1;32m~\\AppData\\Local\\Temp\\1/ipykernel_19992/2239466964.py\u001b[0m in \u001b[0;36m<module>\u001b[1;34m\u001b[0m\n\u001b[0;32m     19\u001b[0m \u001b[0mprint\u001b[0m\u001b[1;33m(\u001b[0m\u001b[0mobj1\u001b[0m\u001b[1;33m.\u001b[0m\u001b[0ma\u001b[0m\u001b[1;33m)\u001b[0m\u001b[1;33m\u001b[0m\u001b[1;33m\u001b[0m\u001b[0m\n\u001b[0;32m     20\u001b[0m \u001b[1;33m\u001b[0m\u001b[0m\n\u001b[1;32m---> 21\u001b[1;33m \u001b[0mobj2\u001b[0m \u001b[1;33m=\u001b[0m \u001b[0mDerived\u001b[0m\u001b[1;33m(\u001b[0m\u001b[1;33m)\u001b[0m\u001b[1;33m\u001b[0m\u001b[1;33m\u001b[0m\u001b[0m\n\u001b[0m",
      "\u001b[1;32m~\\AppData\\Local\\Temp\\1/ipykernel_19992/2239466964.py\u001b[0m in \u001b[0;36m__init__\u001b[1;34m(self)\u001b[0m\n\u001b[0;32m     12\u001b[0m         \u001b[0mBase\u001b[0m\u001b[1;33m.\u001b[0m\u001b[0m__init__\u001b[0m\u001b[1;33m(\u001b[0m\u001b[0mself\u001b[0m\u001b[1;33m)\u001b[0m\u001b[1;33m\u001b[0m\u001b[1;33m\u001b[0m\u001b[0m\n\u001b[0;32m     13\u001b[0m         \u001b[0mprint\u001b[0m\u001b[1;33m(\u001b[0m\u001b[1;34m\"Calling private member of base class: \"\u001b[0m\u001b[1;33m)\u001b[0m\u001b[1;33m\u001b[0m\u001b[1;33m\u001b[0m\u001b[0m\n\u001b[1;32m---> 14\u001b[1;33m         \u001b[0mprint\u001b[0m\u001b[1;33m(\u001b[0m\u001b[0mself\u001b[0m\u001b[1;33m.\u001b[0m\u001b[0m__c\u001b[0m\u001b[1;33m)\u001b[0m \u001b[1;31m#not accessible\u001b[0m\u001b[1;33m\u001b[0m\u001b[1;33m\u001b[0m\u001b[0m\n\u001b[0m\u001b[0;32m     15\u001b[0m \u001b[1;33m\u001b[0m\u001b[0m\n\u001b[0;32m     16\u001b[0m \u001b[1;33m\u001b[0m\u001b[0m\n",
      "\u001b[1;31mAttributeError\u001b[0m: 'Derived' object has no attribute '_Derived__c'"
     ]
    }
   ],
   "source": [
    "class Base:\n",
    "    def __init__(self):\n",
    "        self.a = \"Public A of Base\"\n",
    "        self.__c = \"Private C of Base\"\n",
    " \n",
    "# Creating a derived class\n",
    "class Derived(Base):\n",
    "    def __init__(self):\n",
    " \n",
    "        # Calling constructor of\n",
    "        # Base class\n",
    "        Base.__init__(self)\n",
    "        print(\"Calling private member of base class: \")\n",
    "        print(self.__c) #not accessible\n",
    " \n",
    " \n",
    "# Driver code\n",
    "obj1 = Base()\n",
    "print(obj1.a)\n",
    "\n",
    "obj2 = Derived()"
   ]
  },
  {
   "cell_type": "markdown",
   "metadata": {},
   "source": [
    "However, there is a way of accessing pvt variables as well - data mangling. \n",
    "So in Python, it's all about convention it seems. Practice."
   ]
  }
 ],
 "metadata": {
  "interpreter": {
   "hash": "b3ba2566441a7c06988d0923437866b63cedc61552a5af99d1f4fb67d367b25f"
  },
  "kernelspec": {
   "display_name": "ryu_t",
   "language": "python",
   "name": "python3"
  },
  "language_info": {
   "codemirror_mode": {
    "name": "ipython",
    "version": 3
   },
   "file_extension": ".py",
   "mimetype": "text/x-python",
   "name": "python",
   "nbconvert_exporter": "python",
   "pygments_lexer": "ipython3",
   "version": "3.9.7"
  },
  "orig_nbformat": 4
 },
 "nbformat": 4,
 "nbformat_minor": 2
}
