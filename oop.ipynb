{
 "cells": [
  {
   "cell_type": "markdown",
   "metadata": {},
   "source": [
    "#Inheritance"
   ]
  },
  {
   "cell_type": "code",
   "execution_count": 1,
   "metadata": {},
   "outputs": [],
   "source": [
    "class Parent:\n",
    "    def __init__(self):\n",
    "        print('Parent Constructor',self)\n",
    "\n",
    "class Child0(Parent):\n",
    "    def __init__(xx):\n",
    "        print('Child Contructor',xx)\n",
    "\n",
    "class Child1(Parent):\n",
    "    def __init__(xx):\n",
    "        print('Child Contructor',xx)\n",
    "        Parent.__init__(xx) #in Python implicit is better than explicit\n",
    "\n",
    "class Child2(Parent):\n",
    "    pass    #here, child conctructor is not defined, so explictly parent constructor is called"
   ]
  },
  {
   "cell_type": "code",
   "execution_count": 2,
   "metadata": {},
   "outputs": [
    {
     "name": "stdout",
     "output_type": "stream",
     "text": [
      "\t\t\t Child0\n",
      "Child Contructor <__main__.Child0 object at 0x0000025F4351FD90>\n",
      "Instance Child1 <__main__.Child0 object at 0x0000025F4351FD90>\n",
      "\t\t\t Child1\n",
      "Child Contructor <__main__.Child1 object at 0x0000025F4430D880>\n",
      "Parent Constructor <__main__.Child1 object at 0x0000025F4430D880>\n",
      "Instance Child1 <__main__.Child1 object at 0x0000025F4430D880>\n",
      "\t\t\t Child2\n",
      "Parent Constructor <__main__.Child2 object at 0x0000025F41506820>\n",
      "Instance Child2 <__main__.Child2 object at 0x0000025F41506820>\n"
     ]
    }
   ],
   "source": [
    "print('\\t\\t\\t Child0')\n",
    "obj0 = Child0()\n",
    "print('Instance Child1',obj0)\n",
    "print('\\t\\t\\t Child1')\n",
    "obj1 = Child1()\n",
    "print('Instance Child1',obj1)\n",
    "print('\\t\\t\\t Child2')\n",
    "obj2 = Child2()\n",
    "print('Instance Child2', obj2)"
   ]
  },
  {
   "cell_type": "code",
   "execution_count": 3,
   "metadata": {},
   "outputs": [],
   "source": [
    "class Parent:\n",
    "    def __init__(self, name):\n",
    "        self.name = name\n",
    "\n",
    "class Child0(Parent):\n",
    "    def __init__(xx, name): \n",
    "        xx.name = name     #child class has name\n",
    "\n",
    "class Child1(Parent):\n",
    "    def __init__(xx, name):\n",
    "        Parent.__init__(xx, name) #child class doesn't has name variable but Parent const called\n",
    "\n",
    "class Child2(Parent):\n",
    "    pass #nothing\n",
    "    "
   ]
  },
  {
   "cell_type": "code",
   "execution_count": 4,
   "metadata": {},
   "outputs": [
    {
     "name": "stdout",
     "output_type": "stream",
     "text": [
      "\t\t\t Child0\n",
      "Instance Child1 Shirish\n",
      "\t\t\t Child1\n",
      "Instance Child1 Giridhar\n",
      "\t\t\t Child2\n",
      "Instance Child2 Bajpai\n"
     ]
    }
   ],
   "source": [
    "print('\\t\\t\\t Child0')\n",
    "obj0 = Child0('Shirish')\n",
    "print('Instance Child1',obj0.name)\n",
    "print('\\t\\t\\t Child1')\n",
    "obj1 = Child1('Giridhar')\n",
    "print('Instance Child1',obj1.name)\n",
    "print('\\t\\t\\t Child2')\n",
    "obj2 = Child2('Bajpai') # as parent class requires name, without passing parameter it was throwing error\n",
    "print('Instance Child2', obj2.name)"
   ]
  },
  {
   "cell_type": "markdown",
   "metadata": {},
   "source": [
    "#Polymorphism"
   ]
  },
  {
   "cell_type": "markdown",
   "metadata": {},
   "source": [
    "Having many forms. In Programming, polymorphism - same function name used for different types.."
   ]
  },
  {
   "cell_type": "code",
   "execution_count": 5,
   "metadata": {},
   "outputs": [
    {
     "name": "stdout",
     "output_type": "stream",
     "text": [
      "5\n",
      "3\n"
     ]
    }
   ],
   "source": [
    "# Python program to demonstrate in-built poly-\n",
    "# morphic functions\n",
    " \n",
    "# len() being used for a string\n",
    "print(len(\"geeks\"))\n",
    " \n",
    "# len() being used for a list\n",
    "print(len([10, 20, 30]))"
   ]
  },
  {
   "cell_type": "markdown",
   "metadata": {},
   "source": [
    "Unlike many other popular object-oriented programming languages such as Java, Python doesn’t support compile-time polymorphism or method overloading. If a class or Python script has multiple methods with the same name, the method defined in the last will override the earlier one."
   ]
  },
  {
   "cell_type": "markdown",
   "metadata": {},
   "source": [
    "#Encapsulation"
   ]
  },
  {
   "cell_type": "markdown",
   "metadata": {},
   "source": [
    " It describes the idea of wrapping data and the methods that work on data within one unit. This puts restrictions on accessing variables and methods directly and can prevent the accidental modification of data."
   ]
  },
  {
   "cell_type": "code",
   "execution_count": 18,
   "metadata": {},
   "outputs": [
    {
     "name": "stdout",
     "output_type": "stream",
     "text": [
      "Calling protected member of base class:  2\n",
      "Calling modified protected member outside class:  3\n",
      "Accessing protected member of derived class:  3\n",
      "Accessing protected member of base cls:  2\n",
      "5\n"
     ]
    }
   ],
   "source": [
    "\n",
    "#Protected members - single underscore. Can be accessed but not convention\n",
    "'''\n",
    "Basically, Protected in Python seems to be a convention, as we are able to use them outside class. Ideally they should have been accessible only \n",
    "within class or subclass!\n",
    "'''\n",
    " \n",
    "class Base:\n",
    "    def __init__(self):\n",
    " \n",
    "        # Protected member\n",
    "        self._a = 2\n",
    " \n",
    "class Derived(Base):\n",
    "    def __init__(self):\n",
    " \n",
    "        Base.__init__(self)\n",
    "        print(\"Calling protected member of base class: \", self._a)\n",
    " \n",
    "        # Modify the protected variable:\n",
    "        self._a = 3\n",
    "        print(\"Calling modified protected member outside class: \", self._a)\n",
    " \n",
    " \n",
    "obj1 = Derived()\n",
    " \n",
    "obj2 = Base()\n",
    " \n",
    "# Calling protected member Can be accessed but should not be done due to convention\n",
    "print(\"Accessing protected member of derived class: \", obj1._a)\n",
    " \n",
    "# Accessing the protected variable outside\n",
    "print(\"Accessing protected member of base cls: \", obj2._a)\n",
    "\n",
    "#Updating protected vari\n",
    "obj2._a = 5\n",
    "print(obj2._a)"
   ]
  },
  {
   "cell_type": "code",
   "execution_count": 24,
   "metadata": {},
   "outputs": [
    {
     "name": "stdout",
     "output_type": "stream",
     "text": [
      "Public A of Base\n",
      "Calling private member of base class: \n"
     ]
    },
    {
     "ename": "AttributeError",
     "evalue": "'Derived' object has no attribute '_Derived__c'",
     "output_type": "error",
     "traceback": [
      "\u001b[1;31m---------------------------------------------------------------------------\u001b[0m",
      "\u001b[1;31mAttributeError\u001b[0m                            Traceback (most recent call last)",
      "\u001b[1;32m~\\AppData\\Local\\Temp\\1/ipykernel_19992/2239466964.py\u001b[0m in \u001b[0;36m<module>\u001b[1;34m\u001b[0m\n\u001b[0;32m     19\u001b[0m \u001b[0mprint\u001b[0m\u001b[1;33m(\u001b[0m\u001b[0mobj1\u001b[0m\u001b[1;33m.\u001b[0m\u001b[0ma\u001b[0m\u001b[1;33m)\u001b[0m\u001b[1;33m\u001b[0m\u001b[1;33m\u001b[0m\u001b[0m\n\u001b[0;32m     20\u001b[0m \u001b[1;33m\u001b[0m\u001b[0m\n\u001b[1;32m---> 21\u001b[1;33m \u001b[0mobj2\u001b[0m \u001b[1;33m=\u001b[0m \u001b[0mDerived\u001b[0m\u001b[1;33m(\u001b[0m\u001b[1;33m)\u001b[0m\u001b[1;33m\u001b[0m\u001b[1;33m\u001b[0m\u001b[0m\n\u001b[0m",
      "\u001b[1;32m~\\AppData\\Local\\Temp\\1/ipykernel_19992/2239466964.py\u001b[0m in \u001b[0;36m__init__\u001b[1;34m(self)\u001b[0m\n\u001b[0;32m     12\u001b[0m         \u001b[0mBase\u001b[0m\u001b[1;33m.\u001b[0m\u001b[0m__init__\u001b[0m\u001b[1;33m(\u001b[0m\u001b[0mself\u001b[0m\u001b[1;33m)\u001b[0m\u001b[1;33m\u001b[0m\u001b[1;33m\u001b[0m\u001b[0m\n\u001b[0;32m     13\u001b[0m         \u001b[0mprint\u001b[0m\u001b[1;33m(\u001b[0m\u001b[1;34m\"Calling private member of base class: \"\u001b[0m\u001b[1;33m)\u001b[0m\u001b[1;33m\u001b[0m\u001b[1;33m\u001b[0m\u001b[0m\n\u001b[1;32m---> 14\u001b[1;33m         \u001b[0mprint\u001b[0m\u001b[1;33m(\u001b[0m\u001b[0mself\u001b[0m\u001b[1;33m.\u001b[0m\u001b[0m__c\u001b[0m\u001b[1;33m)\u001b[0m \u001b[1;31m#not accessible\u001b[0m\u001b[1;33m\u001b[0m\u001b[1;33m\u001b[0m\u001b[0m\n\u001b[0m\u001b[0;32m     15\u001b[0m \u001b[1;33m\u001b[0m\u001b[0m\n\u001b[0;32m     16\u001b[0m \u001b[1;33m\u001b[0m\u001b[0m\n",
      "\u001b[1;31mAttributeError\u001b[0m: 'Derived' object has no attribute '_Derived__c'"
     ]
    }
   ],
   "source": [
    "class Base:\n",
    "    def __init__(self):\n",
    "        self.a = \"Public A of Base\"\n",
    "        self.__c = \"Private C of Base\"\n",
    " \n",
    "# Creating a derived class\n",
    "class Derived(Base):\n",
    "    def __init__(self):\n",
    " \n",
    "        # Calling constructor of\n",
    "        # Base class\n",
    "        Base.__init__(self)\n",
    "        print(\"Calling private member of base class: \")\n",
    "        print(self.__c) #not accessible\n",
    " \n",
    " \n",
    "obj1 = Base()\n",
    "print(obj1.a)\n",
    "\n",
    "obj2 = Derived()"
   ]
  },
  {
   "cell_type": "markdown",
   "metadata": {},
   "source": [
    "However, there is a way of accessing pvt variables as well - data mangling. \n",
    "So in Python, it's all about convention it seems. Practice."
   ]
  },
  {
   "cell_type": "markdown",
   "metadata": {},
   "source": [
    "#Multiple Inheritance"
   ]
  },
  {
   "cell_type": "code",
   "execution_count": 1,
   "metadata": {},
   "outputs": [
    {
     "name": "stdout",
     "output_type": "stream",
     "text": [
      "A\n",
      "AA\n",
      "B\n"
     ]
    }
   ],
   "source": [
    "class A:\n",
    "    def __init__(self):\n",
    "        print('A')\n",
    "class AA:\n",
    "    def __init__(self):\n",
    "        print('AA')\n",
    "class B(AA,A):\n",
    "    def __init__(self):\n",
    "        A.__init__(self)\n",
    "        AA.__init__(self)\n",
    "        print('B')\n",
    "\n",
    "objb = B()\n"
   ]
  },
  {
   "cell_type": "markdown",
   "metadata": {},
   "source": [
    "#super"
   ]
  },
  {
   "cell_type": "code",
   "execution_count": 3,
   "metadata": {},
   "outputs": [
    {
     "name": "stdout",
     "output_type": "stream",
     "text": [
      "AA\n",
      "B\n"
     ]
    }
   ],
   "source": [
    "class A:\n",
    "    def __init__(self):\n",
    "        print('A')\n",
    "class AA:\n",
    "    def __init__(self):\n",
    "        print('AA')\n",
    "class B(AA,A):\n",
    "    def __init__(self):\n",
    "        super(B, self).__init__() #super\n",
    "        print('B')\n",
    "\n",
    "objb = B()"
   ]
  },
  {
   "cell_type": "code",
   "execution_count": 5,
   "metadata": {},
   "outputs": [
    {
     "name": "stdout",
     "output_type": "stream",
     "text": [
      "4\n",
      "8\n",
      "24\n"
     ]
    }
   ],
   "source": [
    "\n",
    "class X(object):\n",
    "\tdef __init__(self, a):\n",
    "\t\tself.num = a\n",
    "\tdef doubleup(self):\n",
    "\t\tself.num *= 2\n",
    "\n",
    "class Y(X):\n",
    "\tdef __init__(self, a):\n",
    "\t\tX.__init__(self, a)\n",
    "\tdef tripleup(self):\n",
    "\t\tself.num *= 3\n",
    "\n",
    "obj = Y(4)\n",
    "print(obj.num) #4\n",
    "\n",
    "obj.doubleup()\n",
    "print(obj.num) #8\n",
    "\n",
    "obj.tripleup()\n",
    "print(obj.num) #24\n"
   ]
  },
  {
   "cell_type": "code",
   "execution_count": 7,
   "metadata": {},
   "outputs": [
    {
     "name": "stdout",
     "output_type": "stream",
     "text": [
      "JAYZ True H2OE\n"
     ]
    }
   ],
   "source": [
    "# Base or Super class\n",
    "class Person(object):\n",
    "\tdef __init__(self, name):\n",
    "\t\tself.name = name\n",
    "\t\t\n",
    "\tdef getName(self):\n",
    "\t\treturn self.name\n",
    "\t\n",
    "\tdef isEmployee(self):\n",
    "\t\treturn False\n",
    "\n",
    "# Inherited or Subclass (Note Person in bracket)\n",
    "class Employee(Person):\n",
    "\tdef __init__(self, name, eid):\n",
    "\n",
    "\t\t''' In Python 3.0+, \"super().__init__(name)\" also works'''\n",
    "\t\tsuper(Employee, self).__init__(name)\n",
    "\t\tself.empID = eid\n",
    "\t\t\n",
    "\tdef isEmployee(self):\n",
    "\t\treturn True\n",
    "\t\t\n",
    "\tdef getID(self):\n",
    "\t\treturn self.empID\n",
    "\n",
    "# Driver code\n",
    "emp = Employee(\"JAYZ\", \"H2OE\")\n",
    "print(emp.getName(), emp.isEmployee(), emp.getID()) # JAYZ True H2OE\n"
   ]
  },
  {
   "cell_type": "markdown",
   "metadata": {},
   "source": [
    "#Diamond Problem"
   ]
  },
  {
   "cell_type": "markdown",
   "metadata": {},
   "source": [
    "Note that the above two methods are not exactly the same. In the next article on inheritance, we will covering following topics.\n",
    "1) How super works? How accessing a member through super and parent class name are different?\n",
    "2) How Diamond problem is handled in Python?"
   ]
  },
  {
   "cell_type": "markdown",
   "metadata": {},
   "source": [
    "                  A \n",
    "                  |\n",
    "                B   C\n",
    "                  |\n",
    "                  D"
   ]
  },
  {
   "cell_type": "code",
   "execution_count": 8,
   "metadata": {},
   "outputs": [],
   "source": [
    "class A:\n",
    "    pass\n",
    "class B(A):\n",
    "    pass\n",
    "class C(A):\n",
    "    pass\n",
    "class D(B,C):\n",
    "    pass"
   ]
  },
  {
   "cell_type": "code",
   "execution_count": 14,
   "metadata": {},
   "outputs": [
    {
     "name": "stdout",
     "output_type": "stream",
     "text": [
      "C\n"
     ]
    }
   ],
   "source": [
    "'''\n",
    "classes overriding method...  Lets see how they behave Part 1\n",
    "'''\n",
    "class A:\n",
    "    def r(self):\n",
    "        print('A')\n",
    "class B1(A):\n",
    "    def r(self):\n",
    "        print('B1')\n",
    "class B2(A):\n",
    "    def r(self):\n",
    "        print('B2')\n",
    "class C(B1,B2):\n",
    "    def r(self):\n",
    "        print('C')\n",
    "\n",
    "obj = C()\n",
    "\n",
    "obj.r() #prints method of class"
   ]
  },
  {
   "cell_type": "code",
   "execution_count": 15,
   "metadata": {},
   "outputs": [
    {
     "name": "stdout",
     "output_type": "stream",
     "text": [
      "B1\n"
     ]
    }
   ],
   "source": [
    "'''\n",
    "classes overriding method...  Lets see how they behave Part 2.1\n",
    "'''\n",
    "class A:\n",
    "    def r(self):\n",
    "        print('A')\n",
    "class B1(A):\n",
    "    def r(self):\n",
    "        print('B1')\n",
    "class B2(A):\n",
    "    def r(self):\n",
    "        print('B2')\n",
    "class C(B1,B2):\n",
    "    pass # if not defined in C\n",
    "    # def r(self):\n",
    "    #     print('C')\n",
    "\n",
    "obj = C()\n",
    "\n",
    "obj.r() #prints method of class B1 --- Because while inheriting C(B1,B2)"
   ]
  },
  {
   "cell_type": "code",
   "execution_count": 17,
   "metadata": {},
   "outputs": [
    {
     "name": "stdout",
     "output_type": "stream",
     "text": [
      "B1\n"
     ]
    }
   ],
   "source": [
    "'''\n",
    "classes overriding method...  Lets see how they behave Part 2.2\n",
    "'''\n",
    "class A:\n",
    "    def r(self):\n",
    "        print('A')\n",
    "class B1(A):\n",
    "    def r(self):\n",
    "        print('B1')\n",
    "class B2(A):\n",
    "    def r(self):\n",
    "        print('B2')\n",
    "class C(B1,B2):\n",
    "    pass # if not defined in C\n",
    "    # def r(self):\n",
    "    #     print('C')\n",
    "\n",
    "obj = C()\n",
    "\n",
    "obj.r()"
   ]
  },
  {
   "cell_type": "code",
   "execution_count": 18,
   "metadata": {},
   "outputs": [
    {
     "name": "stdout",
     "output_type": "stream",
     "text": [
      "B2\n"
     ]
    }
   ],
   "source": [
    "'''\n",
    "classes overriding method...  Lets see how they behave Part 2.3\n",
    "'''\n",
    "class A:\n",
    "    def r(self):\n",
    "        print('A')\n",
    "class B1(A):\n",
    "    def r(self):\n",
    "        print('B1')\n",
    "class B2(A):\n",
    "    def r(self):\n",
    "        print('B2')\n",
    "class C(B2,B1):\n",
    "    pass # if not defined in C\n",
    "    # def r(self):\n",
    "    #     print('C')\n",
    "\n",
    "obj = C()\n",
    "\n",
    "obj.r()"
   ]
  },
  {
   "cell_type": "code",
   "execution_count": 20,
   "metadata": {},
   "outputs": [
    {
     "name": "stdout",
     "output_type": "stream",
     "text": [
      "B2\n"
     ]
    }
   ],
   "source": [
    "'''\n",
    "classes overriding method...  Lets see how they behave Part 2.4\n",
    "'''\n",
    "class A:\n",
    "    def r(self):\n",
    "        print('A')\n",
    "class B1(A):\n",
    "    def r(self):\n",
    "        print('B1')\n",
    "class B2(A):\n",
    "    def r(self):\n",
    "        print('B2')\n",
    "class C(B2,B1):\n",
    "    def __init__(self):\n",
    "        B1.__init__(self) #it seems calling out specific constructor doesnt affects method's call\n",
    "\n",
    "    # if not defined in C\n",
    "    # def r(self):\n",
    "    #     print('C')\n",
    "\n",
    "obj = C()\n",
    "\n",
    "obj.r()"
   ]
  },
  {
   "cell_type": "code",
   "execution_count": 21,
   "metadata": {},
   "outputs": [
    {
     "name": "stdout",
     "output_type": "stream",
     "text": [
      "In Class4\n",
      "In Class2\n",
      "In Class3\n",
      "In Class1\n"
     ]
    }
   ],
   "source": [
    "# Python Program to depict multiple inheritance when every class defines the same method\n",
    " \n",
    "class Class1:\n",
    "    def m(self):\n",
    "        print(\"In Class1\")\n",
    "       \n",
    "class Class2(Class1):\n",
    "    def m(self):\n",
    "        print(\"In Class2\")\n",
    " \n",
    "class Class3(Class1):\n",
    "    def m(self):\n",
    "         print(\"In Class3\")    \n",
    "     \n",
    "class Class4(Class2, Class3):\n",
    "    def m(self):\n",
    "        print(\"In Class4\")  \n",
    " \n",
    "obj = Class4()\n",
    "obj.m()\n",
    " \n",
    "Class2.m(obj)\n",
    "Class3.m(obj)\n",
    "Class1.m(obj)"
   ]
  },
  {
   "cell_type": "code",
   "execution_count": 22,
   "metadata": {},
   "outputs": [
    {
     "name": "stdout",
     "output_type": "stream",
     "text": [
      "In Class4\n",
      "In Class2\n",
      "In Class1\n",
      "In Class3\n",
      "In Class1\n"
     ]
    }
   ],
   "source": [
    "\n",
    "# Python Program to depict multiple inheritance\n",
    "# when we try to call m of Class1 from both m of\n",
    "# Class2 and m of Class3\n",
    " \n",
    "class Class1:\n",
    "    def m(self):\n",
    "        print(\"In Class1\")  \n",
    "     \n",
    "class Class2(Class1):\n",
    "    def m(self):\n",
    "        print(\"In Class2\")\n",
    "        Class1.m(self)\n",
    " \n",
    "class Class3(Class1):\n",
    "    def m(self):\n",
    "        print(\"In Class3\")\n",
    "        Class1.m(self)  \n",
    "      \n",
    "class Class4(Class2, Class3):\n",
    "    def m(self):\n",
    "        print(\"In Class4\")  \n",
    "        Class2.m(self)\n",
    "        Class3.m(self)\n",
    "      \n",
    "obj = Class4()\n",
    "obj.m()"
   ]
  },
  {
   "cell_type": "markdown",
   "metadata": {},
   "source": [
    "The output of the above code has one problem associated with it, the method m of Class1 is called twice. Python provides a solution to the above problem with the help of the super() function. Let’s see how it works."
   ]
  },
  {
   "cell_type": "markdown",
   "metadata": {},
   "source": [
    "#Super, Method Resolution Order(MRO)"
   ]
  },
  {
   "cell_type": "markdown",
   "metadata": {},
   "source": [
    "Super() is generally used with the __init__ function when the instances are initialized. The super function comes to a conclusion, on which method to call with the help of the method resolution order (MRO)."
   ]
  },
  {
   "cell_type": "code",
   "execution_count": 23,
   "metadata": {},
   "outputs": [
    {
     "name": "stdout",
     "output_type": "stream",
     "text": [
      "In Class4\n",
      "In Class2\n",
      "In Class3\n",
      "In Class1\n"
     ]
    }
   ],
   "source": [
    "# Python program to demonstrate\n",
    "# super()\n",
    "\n",
    "class Class1:\n",
    "\tdef m(self):\n",
    "\t\tprint(\"In Class1\")\n",
    "\n",
    "class Class2(Class1):\n",
    "\tdef m(self):\n",
    "\t\tprint(\"In Class2\")\n",
    "\t\tsuper().m()\n",
    "\n",
    "class Class3(Class1):\n",
    "\tdef m(self):\n",
    "\t\tprint(\"In Class3\")\n",
    "\t\tsuper().m()\n",
    "\n",
    "class Class4(Class2, Class3):\n",
    "\tdef m(self):\n",
    "\t\tprint(\"In Class4\")\n",
    "\t\tsuper().m()\n",
    "\t\n",
    "obj = Class4()\n",
    "obj.m()\n"
   ]
  },
  {
   "cell_type": "markdown",
   "metadata": {},
   "source": [
    "<b>Use of super():<br></b>\n",
    "In Python, super() has two major use cases:<br>\n",
    "\n",
    ">Allows us to avoid using the base class name explicitly<br>\n",
    ">Working with Multiple Inheritance"
   ]
  },
  {
   "cell_type": "code",
   "execution_count": 25,
   "metadata": {},
   "outputs": [
    {
     "name": "stdout",
     "output_type": "stream",
     "text": [
      "Dog has four legs.\n",
      "Dog is a warm-blooded animal.\n"
     ]
    }
   ],
   "source": [
    "class Mammal(object):\n",
    "  def __init__(self, mammalName):\n",
    "    print(mammalName, 'is a warm-blooded animal.')\n",
    "    \n",
    "class Dog(Mammal):\n",
    "  def __init__(self):\n",
    "    print('Dog has four legs.')\n",
    "    super().__init__('Dog')\n",
    "    \n",
    "d1 = Dog()"
   ]
  },
  {
   "cell_type": "markdown",
   "metadata": {},
   "source": [
    "Here, if didn't have to explicitly type \"Mammal.__init__(self,'Dog')\". So, if suppose Base class's name changes, with super, no issues!"
   ]
  },
  {
   "cell_type": "code",
   "execution_count": 26,
   "metadata": {},
   "outputs": [
    {
     "name": "stdout",
     "output_type": "stream",
     "text": [
      "Dog has 4 legs.\n",
      "Dog can't swim.\n",
      "Dog can't fly.\n",
      "Dog is a warm-blooded animal.\n",
      "Dog is an animal.\n",
      "\n",
      "Bat can't swim.\n",
      "Bat is a warm-blooded animal.\n",
      "Bat is an animal.\n"
     ]
    }
   ],
   "source": [
    "class Animal:\n",
    "  def __init__(self, Animal):\n",
    "    print(Animal, 'is an animal.');\n",
    "\n",
    "class Mammal(Animal):\n",
    "  def __init__(self, mammalName):\n",
    "    print(mammalName, 'is a warm-blooded animal.')\n",
    "    super().__init__(mammalName)\n",
    "    \n",
    "class NonWingedMammal(Mammal):\n",
    "  def __init__(self, NonWingedMammal):\n",
    "    print(NonWingedMammal, \"can't fly.\")\n",
    "    super().__init__(NonWingedMammal)\n",
    "\n",
    "class NonMarineMammal(Mammal):\n",
    "  def __init__(self, NonMarineMammal):\n",
    "    print(NonMarineMammal, \"can't swim.\")\n",
    "    super().__init__(NonMarineMammal)\n",
    "\n",
    "class Dog(NonMarineMammal, NonWingedMammal):\n",
    "  def __init__(self):\n",
    "    print('Dog has 4 legs.');\n",
    "    super().__init__('Dog')\n",
    "    \n",
    "d = Dog()\n",
    "print('')\n",
    "bat = NonMarineMammal('Bat')"
   ]
  },
  {
   "cell_type": "markdown",
   "metadata": {},
   "source": [
    "Multiple inheritance is taken care by super using MRO!"
   ]
  },
  {
   "cell_type": "markdown",
   "metadata": {},
   "source": [
    "MRO"
   ]
  },
  {
   "cell_type": "markdown",
   "metadata": {},
   "source": [
    "</b>In Python, \"object\" class is the base class of the classes <br>\n",
    "</b>In the case of multiple inheritance, a given attribute is first searched in the current class if it’s not found then it’s searched in the parent classes. The parent classes are searched in a left-right fashion and each class is searched once.<br>\n",
    "</b>If we see the above example then the order of search for the attributes will be Derived, Base1, Base2, object. The order that is followed is known as a linearization of the class Derived and this order is found out using a set of rules called Method Resolution Order (MRO).<br>\n",
    "</b>"
   ]
  },
  {
   "cell_type": "markdown",
   "metadata": {},
   "source": [
    "Use the mro() method, it returns a list <br>\n",
    "Eg. Class4.mro() <br>\n",
    "Use the _mro_ attribute, it returns a tuple <br>\n",
    "Eg. Class4.__mro__ "
   ]
  },
  {
   "cell_type": "code",
   "execution_count": 24,
   "metadata": {},
   "outputs": [
    {
     "name": "stdout",
     "output_type": "stream",
     "text": [
      "[<class '__main__.Class4'>, <class '__main__.Class2'>, <class '__main__.Class3'>, <class '__main__.Class1'>, <class 'object'>]\n",
      "(<class '__main__.Class4'>, <class '__main__.Class2'>, <class '__main__.Class3'>, <class '__main__.Class1'>, <class 'object'>)\n"
     ]
    }
   ],
   "source": [
    "# Python program to demonstrate\n",
    "# super()\n",
    "\n",
    "class Class1:\n",
    "\tdef m(self):\n",
    "\t\tprint(\"In Class1\")\n",
    "\n",
    "class Class2(Class1):\n",
    "\tdef m(self):\n",
    "\t\tprint(\"In Class2\")\n",
    "\t\tsuper().m()\n",
    "\n",
    "class Class3(Class1):\n",
    "\tdef m(self):\n",
    "\t\tprint(\"In Class3\")\n",
    "\t\tsuper().m()\n",
    "\n",
    "class Class4(Class2, Class3):\n",
    "\tdef m(self):\n",
    "\t\tprint(\"In Class4\")\n",
    "\t\tsuper().m()\n",
    "\t\n",
    "print(Class4.mro())\t\t #This will print list\n",
    "print(Class4.__mro__)\t #This will print tuple\n"
   ]
  }
 ],
 "metadata": {
  "interpreter": {
   "hash": "b3ba2566441a7c06988d0923437866b63cedc61552a5af99d1f4fb67d367b25f"
  },
  "kernelspec": {
   "display_name": "ryu_t",
   "language": "python",
   "name": "python3"
  },
  "language_info": {
   "codemirror_mode": {
    "name": "ipython",
    "version": 3
   },
   "file_extension": ".py",
   "mimetype": "text/x-python",
   "name": "python",
   "nbconvert_exporter": "python",
   "pygments_lexer": "ipython3",
   "version": "3.9.7"
  },
  "orig_nbformat": 4
 },
 "nbformat": 4,
 "nbformat_minor": 2
}
