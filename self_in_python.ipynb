{
 "cells": [
  {
   "cell_type": "markdown",
   "metadata": {},
   "source": [
    "self represents instance of the class"
   ]
  },
  {
   "cell_type": "code",
   "execution_count": 10,
   "metadata": {},
   "outputs": [],
   "source": [
    "class C1:\n",
    "    def __init__(self):\n",
    "        print('self:', id(self))"
   ]
  },
  {
   "cell_type": "code",
   "execution_count": 11,
   "metadata": {},
   "outputs": [
    {
     "name": "stdout",
     "output_type": "stream",
     "text": [
      "self: 2690904004488\n",
      "self: 2690904003528\n",
      "add of - \n",
      "obj1:2690904004488\n",
      "obj2:2690904003528\n"
     ]
    }
   ],
   "source": [
    "obj1 = C1()\n",
    "obj2 = C1()\n",
    "\n",
    "print('add of - \\nobj1:{}\\nobj2:{}'.format(id(obj1),id(obj2)))"
   ]
  },
  {
   "cell_type": "markdown",
   "metadata": {},
   "source": [
    "Self can be named anything. It is first parameter"
   ]
  },
  {
   "cell_type": "code",
   "execution_count": 15,
   "metadata": {},
   "outputs": [],
   "source": [
    "class C2:\n",
    "    def __init__(dgenx):\n",
    "        print(dgenx)"
   ]
  },
  {
   "cell_type": "code",
   "execution_count": 16,
   "metadata": {},
   "outputs": [
    {
     "name": "stdout",
     "output_type": "stream",
     "text": [
      "<__main__.C2 object at 0x00000272865EA448>\n",
      "<__main__.C2 object at 0x00000272865EA448>\n"
     ]
    }
   ],
   "source": [
    "obj3 = C2()\n",
    "\n",
    "print(obj3)"
   ]
  }
 ],
 "metadata": {
  "interpreter": {
   "hash": "b93a090ad05a327f0ce2865e83b9e2b8e0809f7a11c2357d56eb7f43c6250088"
  },
  "kernelspec": {
   "display_name": "Python 3.7.11 ('ryu_t')",
   "language": "python",
   "name": "python3"
  },
  "language_info": {
   "codemirror_mode": {
    "name": "ipython",
    "version": 3
   },
   "file_extension": ".py",
   "mimetype": "text/x-python",
   "name": "python",
   "nbconvert_exporter": "python",
   "pygments_lexer": "ipython3",
   "version": "3.7.11"
  },
  "orig_nbformat": 4
 },
 "nbformat": 4,
 "nbformat_minor": 2
}
