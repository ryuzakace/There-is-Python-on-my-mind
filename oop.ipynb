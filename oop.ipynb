{
 "cells": [
  {
   "cell_type": "markdown",
   "metadata": {},
   "source": [
    "#Inheritance"
   ]
  },
  {
   "cell_type": "code",
   "execution_count": 29,
   "metadata": {},
   "outputs": [],
   "source": [
    "class Parent:\n",
    "    def __init__(self):\n",
    "        print('Parent Constructor',self)\n",
    "\n",
    "class Child0(Parent):\n",
    "    def __init__(xx):\n",
    "        print('Child Contructor',xx)\n",
    "\n",
    "class Child1(Parent):\n",
    "    def __init__(xx):\n",
    "        print('Child Contructor',xx)\n",
    "        Parent.__init__(xx) #in Python implicit is better than explicit\n",
    "\n",
    "class Child2(Parent):\n",
    "    pass    #here, child conctructor is not defined, so explictly parent constructor is called"
   ]
  },
  {
   "cell_type": "code",
   "execution_count": 30,
   "metadata": {},
   "outputs": [
    {
     "name": "stdout",
     "output_type": "stream",
     "text": [
      "\t\t\t Child0\n",
      "Child Contructor <__main__.Child0 object at 0x000001D60ED9E188>\n",
      "Instance Child1 <__main__.Child0 object at 0x000001D60ED9E188>\n",
      "\t\t\t Child1\n",
      "Child Contructor <__main__.Child1 object at 0x000001D60ED9E248>\n",
      "Parent Constructor <__main__.Child1 object at 0x000001D60ED9E248>\n",
      "Instance Child1 <__main__.Child1 object at 0x000001D60ED9E248>\n",
      "\t\t\t Child2\n",
      "Parent Constructor <__main__.Child2 object at 0x000001D60E057388>\n",
      "Instance Child2 <__main__.Child2 object at 0x000001D60E057388>\n"
     ]
    }
   ],
   "source": [
    "print('\\t\\t\\t Child0')\n",
    "obj0 = Child0()\n",
    "print('Instance Child1',obj0)\n",
    "print('\\t\\t\\t Child1')\n",
    "obj1 = Child1()\n",
    "print('Instance Child1',obj1)\n",
    "print('\\t\\t\\t Child2')\n",
    "obj2 = Child2()\n",
    "print('Instance Child2', obj2)"
   ]
  },
  {
   "cell_type": "code",
   "execution_count": 43,
   "metadata": {},
   "outputs": [],
   "source": [
    "class Parent:\n",
    "    def __init__(self, name):\n",
    "        self.name = name\n",
    "\n",
    "class Child0(Parent):\n",
    "    def __init__(xx, name): \n",
    "        xx.name = name     #child class has name\n",
    "\n",
    "class Child1(Parent):\n",
    "    def __init__(xx, name):\n",
    "        Parent.__init__(xx, name) #child class doesn't has name variable but Parent const called\n",
    "\n",
    "class Child2(Parent):\n",
    "    pass #nothing\n",
    "    "
   ]
  },
  {
   "cell_type": "code",
   "execution_count": 45,
   "metadata": {},
   "outputs": [
    {
     "name": "stdout",
     "output_type": "stream",
     "text": [
      "\t\t\t Child0\n",
      "Instance Child1 Shirish\n",
      "\t\t\t Child1\n",
      "Instance Child1 Giridhar\n",
      "\t\t\t Child2\n",
      "Instance Child2 Bajpai\n"
     ]
    }
   ],
   "source": [
    "print('\\t\\t\\t Child0')\n",
    "obj0 = Child0('Shirish')\n",
    "print('Instance Child1',obj0.name)\n",
    "print('\\t\\t\\t Child1')\n",
    "obj1 = Child1('Giridhar')\n",
    "print('Instance Child1',obj1.name)\n",
    "print('\\t\\t\\t Child2')\n",
    "obj2 = Child2('Bajpai') # as parent class requires name, without passing parameter it was throwing error\n",
    "print('Instance Child2', obj2.name)"
   ]
  }
 ],
 "metadata": {
  "kernelspec": {
   "display_name": "ryu_t",
   "language": "python",
   "name": "ryu_t"
  },
  "language_info": {
   "codemirror_mode": {
    "name": "ipython",
    "version": 3
   },
   "file_extension": ".py",
   "mimetype": "text/x-python",
   "name": "python",
   "nbconvert_exporter": "python",
   "pygments_lexer": "ipython3",
   "version": "3.7.11"
  },
  "orig_nbformat": 4
 },
 "nbformat": 4,
 "nbformat_minor": 2
}
